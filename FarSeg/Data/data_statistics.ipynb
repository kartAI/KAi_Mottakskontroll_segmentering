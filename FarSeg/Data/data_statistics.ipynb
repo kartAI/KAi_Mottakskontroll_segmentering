{
 "cells": [
  {
   "cell_type": "markdown",
   "metadata": {},
   "source": [
    "# Data statistics\n",
    "\n",
    "Calculates statistics  about the data set"
   ]
  },
  {
   "cell_type": "markdown",
   "metadata": {},
   "source": [
    "### Import libraries"
   ]
  },
  {
   "cell_type": "code",
   "execution_count": null,
   "metadata": {},
   "outputs": [],
   "source": [
    "import os\n",
    "from collections import Counter\n",
    "import geopandas as gpd\n",
    "from shapely.geometry import box\n",
    "from tqdm import tqdm\n",
    "import rasterio\n",
    "import glob\n",
    "\n",
    "import pre_processing as pre"
   ]
  },
  {
   "cell_type": "markdown",
   "metadata": {},
   "source": [
    "### Function"
   ]
  },
  {
   "cell_type": "code",
   "execution_count": null,
   "metadata": {},
   "outputs": [],
   "source": [
    "def analyze_tiles(geo_tiffs, building_layer, road_layer, tile_folder):\n",
    "    \"\"\"\n",
    "    Calculates statistics about the given data sets\n",
    "\n",
    "    Args:\n",
    "        geo_tiffs (list of strings): List of all the file paths as strings\n",
    "        building_layer (string): File path to the geopackage layer\n",
    "        road_layer (string): File path to the geopackage layer\n",
    "        tile_folder (string): File path to the folder where the temporarly tiles will be stored\n",
    "    \n",
    "    Returns:\n",
    "        Dict: Dictionary with all the calculated statistics\n",
    "    \"\"\"\n",
    "    \n",
    "    # Initializes the statistics:\n",
    "    total_tiles = 0\n",
    "    valid_tiles = 0\n",
    "    tiles_with_buildings = 0\n",
    "    tiles_with_roads = 0\n",
    "    building_counts = Counter()\n",
    "    road_counts = Counter()\n",
    "\n",
    "    # Loads building and road layer:\n",
    "    buildings = gpd.read_file(building_layer)\n",
    "    roads = gpd.read_file(road_layer)\n",
    "\n",
    "    for tif in tqdm(geo_tiffs, 'TIFF files'):\n",
    "        pre.clear_output_directory(tile_folder)\n",
    "        pre.generate_tiles(tif, tile_folder)\n",
    "        valid_tiles_list = [os.path.join(tile_folder, f) for f in os.listdir(tile_folder) if f.endswith('.tif')]\n",
    "        valid_tiles += len(valid_tiles_list)\n",
    "        total_tiles += 12 * 16 # Each GeoTIFF is divided into 12 x 16 pieces\n",
    "\n",
    "        # Analyzes valid tiles:\n",
    "        for tilepath in valid_tiles_list:\n",
    "            with rasterio.open(tilepath) as tile:\n",
    "                # Fetches the bounding box of the tile in coordinates:\n",
    "                bounds = tile.bounds\n",
    "                tile_box = box(*bounds)\n",
    "\n",
    "                # Filters buildings and roads that overlaps with the tile:\n",
    "                tile_buildings = buildings[buildings.intersects(tile_box)]\n",
    "                tile_roads = roads[roads.intersects(tile_box)]\n",
    "\n",
    "                # Updates statistics:\n",
    "                if not tile_buildings.empty:\n",
    "                    tiles_with_buildings += 1\n",
    "                    building_counts[len(tile_buildings)] += 1\n",
    "                if not tile_roads.empty:\n",
    "                    tiles_with_roads += 1\n",
    "                    road_counts[len(tile_roads)] += 1\n",
    "    \n",
    "    pre.clear_output_directory(tile_folder)\n",
    "    \n",
    "    # Estimates invalid tiles:\n",
    "    invalid_tiles = total_tiles - valid_tiles\n",
    "\n",
    "    # Returns statistics:\n",
    "    return {\n",
    "        \"Total_tiles\": total_tiles,\n",
    "        \"Valid_tiles\": valid_tiles,\n",
    "        \"Invalid_tiles\": invalid_tiles,\n",
    "        \"Tiles_with_buildings\": tiles_with_buildings,\n",
    "        \"Tiles_with_roads\": tiles_with_roads,\n",
    "        \"Building_distribution\": dict(building_counts),\n",
    "        \"Road_distribution\": dict(road_counts),\n",
    "    }"
   ]
  },
  {
   "cell_type": "markdown",
   "metadata": {},
   "source": [
    "## Program"
   ]
  },
  {
   "cell_type": "markdown",
   "metadata": {},
   "source": [
    "**Initializes** all the input variables:\n",
    "\n",
    "The first three paths do you need to change so that they corresponds with your data.\n",
    "\n",
    "The last filepath will create a new folder if it do not exists already"
   ]
  },
  {
   "cell_type": "code",
   "execution_count": null,
   "metadata": {},
   "outputs": [],
   "source": [
    "# File paths to edit:\n",
    "\n",
    "geotiff_folder = \"C:/images_mj\"\n",
    "geo_tiffs = glob.glob(geotiff_folder + '/*.tif')\n",
    "building_layer = \"C:/Users/jshjelse/Documents/Prosjektoppgave/Geopackage/Ver2/1_Farsund_Endelig_Bygning.gpkg\"\n",
    "road_layer = \"C:/Users/jshjelse/Documents/Prosjektoppgave/Geopackage/Ver2/2_Veg_Aktuelle_Flater.gpkg\"\n",
    "\n",
    "# Folder that is created automatically:\n",
    "\n",
    "tile_folder = \"~/KAi_Mottakskontroll_segmentering/FarSeg/Data/Tiles\"\n",
    "os.makedirs(tile_folder, exist_ok=True)"
   ]
  },
  {
   "cell_type": "markdown",
   "metadata": {},
   "source": [
    "**Calculates** all the statistic:"
   ]
  },
  {
   "cell_type": "code",
   "execution_count": null,
   "metadata": {},
   "outputs": [],
   "source": [
    "statistics = analyze_tiles(geo_tiffs, building_layer, road_layer, tile_folder)"
   ]
  },
  {
   "cell_type": "markdown",
   "metadata": {},
   "source": [
    "**Prints** the statistic:"
   ]
  },
  {
   "cell_type": "code",
   "execution_count": null,
   "metadata": {},
   "outputs": [],
   "source": [
    "# Write results:\n",
    "for key, value in statistics.items():\n",
    "    print(f\"{key}: {value}\")"
   ]
  },
  {
   "cell_type": "markdown",
   "metadata": {},
   "source": [
    "**Plots** the statistic:"
   ]
  }
 ],
 "metadata": {
  "kernelspec": {
   "display_name": "Python 3",
   "language": "python",
   "name": "python3"
  },
  "language_info": {
   "name": "python",
   "version": "3.11.2"
  }
 },
 "nbformat": 4,
 "nbformat_minor": 2
}
